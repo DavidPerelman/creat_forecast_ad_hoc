{
 "cells": [
  {
   "cell_type": "code",
   "execution_count": 16,
   "id": "9124a5a8",
   "metadata": {},
   "outputs": [
    {
     "ename": "KeyError",
     "evalue": "\"['DISTRICT'] not in index\"",
     "output_type": "error",
     "traceback": [
      "\u001b[1;31m---------------------------------------------------------------------------\u001b[0m",
      "\u001b[1;31mKeyError\u001b[0m                                  Traceback (most recent call last)",
      "Input \u001b[1;32mIn [16]\u001b[0m, in \u001b[0;36m<cell line: 35>\u001b[1;34m()\u001b[0m\n\u001b[0;32m     32\u001b[0m forecast\u001b[38;5;241m=\u001b[39mclientTaz(client_data_folder_location)\n\u001b[0;32m     34\u001b[0m \u001b[38;5;66;03m#### הוספת מאפיינים גיאוגרפים לאזורי תנועה\u001b[39;00m\n\u001b[1;32m---> 35\u001b[0m forecast\u001b[38;5;241m=\u001b[39m\u001b[43madd_geographical_Features\u001b[49m\u001b[43m(\u001b[49m\u001b[43mforecast\u001b[49m\u001b[43m,\u001b[49m\u001b[43m \u001b[49m\u001b[43msoftware_data_folder_location\u001b[49m\u001b[43m)\u001b[49m\n",
      "File \u001b[1;32mW:\\Data\\Forecast\\Tools\\creat_forecast_ad_hoc\\py_scripts\\geographical_features.py:14\u001b[0m, in \u001b[0;36madd_geographical_Features\u001b[1;34m(forecast, software_data_folder_location)\u001b[0m\n\u001b[0;32m     10\u001b[0m PUMA\u001b[38;5;241m=\u001b[39mup_load_gdb( \u001b[38;5;124mr\u001b[39m\u001b[38;5;124m'\u001b[39m\u001b[38;5;132;01m{}\u001b[39;00m\u001b[38;5;124m\\\u001b[39m\u001b[38;5;124mbackground_files\u001b[39m\u001b[38;5;124m\\\u001b[39m\u001b[38;5;124mGIS_jtmt_forcast_v_3_2_Published.gdb\u001b[39m\u001b[38;5;124m'\u001b[39m\u001b[38;5;241m.\u001b[39mformat(software_data_folder_location),\u001b[38;5;124m'\u001b[39m\u001b[38;5;124mTAZ_V3_2_220123_PUMA\u001b[39m\u001b[38;5;124m'\u001b[39m)\n\u001b[0;32m     11\u001b[0m jerusalem_city\u001b[38;5;241m=\u001b[39mup_load_gdb( \u001b[38;5;124mr\u001b[39m\u001b[38;5;124m'\u001b[39m\u001b[38;5;132;01m{}\u001b[39;00m\u001b[38;5;124m\\\u001b[39m\u001b[38;5;124mbackground_files\u001b[39m\u001b[38;5;124m\\\u001b[39m\u001b[38;5;124mGIS_jtmt_forcast_v_3_2_Published.gdb\u001b[39m\u001b[38;5;124m'\u001b[39m\u001b[38;5;241m.\u001b[39mformat(software_data_folder_location),\u001b[38;5;124m'\u001b[39m\u001b[38;5;124mTAZ_V3_2_220123_In_jerusal\u001b[39m\u001b[38;5;124m'\u001b[39m)\n\u001b[1;32m---> 14\u001b[0m forecast_point_DISTRICT\u001b[38;5;241m=\u001b[39m\u001b[43mforecast_point\u001b[49m\u001b[38;5;241;43m.\u001b[39;49m\u001b[43msjoin\u001b[49m\u001b[43m(\u001b[49m\u001b[43mDISTRICT\u001b[49m\u001b[43m)\u001b[49m\u001b[43m[\u001b[49m\u001b[43m[\u001b[49m\u001b[38;5;124;43m'\u001b[39;49m\u001b[38;5;124;43mTaz_num\u001b[39;49m\u001b[38;5;124;43m'\u001b[39;49m\u001b[43m,\u001b[49m\u001b[38;5;124;43m'\u001b[39;49m\u001b[38;5;124;43mpuma2040_csv_DISTRICT\u001b[39;49m\u001b[38;5;124;43m'\u001b[39;49m\u001b[43m]\u001b[49m\u001b[43m]\u001b[49m\n\u001b[0;32m     15\u001b[0m forecast_point_urban\u001b[38;5;241m=\u001b[39mforecast_point\u001b[38;5;241m.\u001b[39msjoin(urban)[[\u001b[38;5;124m'\u001b[39m\u001b[38;5;124mTaz_num\u001b[39m\u001b[38;5;124m'\u001b[39m,\u001b[38;5;124m'\u001b[39m\u001b[38;5;124mBaseProjections2040_csv_urban\u001b[39m\u001b[38;5;124m'\u001b[39m]]\n\u001b[0;32m     16\u001b[0m forecast_point_SCHOOLDISTRICT\u001b[38;5;241m=\u001b[39mforecast_point\u001b[38;5;241m.\u001b[39msjoin(SCHOOLDISTRICT)[[\u001b[38;5;124m'\u001b[39m\u001b[38;5;124mTaz_num\u001b[39m\u001b[38;5;124m'\u001b[39m,\u001b[38;5;124m'\u001b[39m\u001b[38;5;124mpuma2040_csv_SCHOOLDISTRICT\u001b[39m\u001b[38;5;124m'\u001b[39m]]\n",
      "File \u001b[1;32m~\\Anaconda3\\envs\\geo_env\\lib\\site-packages\\geopandas\\geodataframe.py:1327\u001b[0m, in \u001b[0;36mGeoDataFrame.__getitem__\u001b[1;34m(self, key)\u001b[0m\n\u001b[0;32m   1321\u001b[0m \u001b[38;5;28;01mdef\u001b[39;00m \u001b[38;5;21m__getitem__\u001b[39m(\u001b[38;5;28mself\u001b[39m, key):\n\u001b[0;32m   1322\u001b[0m     \u001b[38;5;124;03m\"\"\"\u001b[39;00m\n\u001b[0;32m   1323\u001b[0m \u001b[38;5;124;03m    If the result is a column containing only 'geometry', return a\u001b[39;00m\n\u001b[0;32m   1324\u001b[0m \u001b[38;5;124;03m    GeoSeries. If it's a DataFrame with a 'geometry' column, return a\u001b[39;00m\n\u001b[0;32m   1325\u001b[0m \u001b[38;5;124;03m    GeoDataFrame.\u001b[39;00m\n\u001b[0;32m   1326\u001b[0m \u001b[38;5;124;03m    \"\"\"\u001b[39;00m\n\u001b[1;32m-> 1327\u001b[0m     result \u001b[38;5;241m=\u001b[39m \u001b[38;5;28;43msuper\u001b[39;49m\u001b[43m(\u001b[49m\u001b[43m)\u001b[49m\u001b[38;5;241;43m.\u001b[39;49m\u001b[38;5;21;43m__getitem__\u001b[39;49m\u001b[43m(\u001b[49m\u001b[43mkey\u001b[49m\u001b[43m)\u001b[49m\n\u001b[0;32m   1328\u001b[0m     geo_col \u001b[38;5;241m=\u001b[39m \u001b[38;5;28mself\u001b[39m\u001b[38;5;241m.\u001b[39m_geometry_column_name\n\u001b[0;32m   1329\u001b[0m     \u001b[38;5;28;01mif\u001b[39;00m \u001b[38;5;28misinstance\u001b[39m(result, Series) \u001b[38;5;129;01mand\u001b[39;00m \u001b[38;5;28misinstance\u001b[39m(result\u001b[38;5;241m.\u001b[39mdtype, GeometryDtype):\n",
      "File \u001b[1;32m~\\Anaconda3\\envs\\geo_env\\lib\\site-packages\\pandas\\core\\frame.py:3511\u001b[0m, in \u001b[0;36mDataFrame.__getitem__\u001b[1;34m(self, key)\u001b[0m\n\u001b[0;32m   3509\u001b[0m     \u001b[38;5;28;01mif\u001b[39;00m is_iterator(key):\n\u001b[0;32m   3510\u001b[0m         key \u001b[38;5;241m=\u001b[39m \u001b[38;5;28mlist\u001b[39m(key)\n\u001b[1;32m-> 3511\u001b[0m     indexer \u001b[38;5;241m=\u001b[39m \u001b[38;5;28;43mself\u001b[39;49m\u001b[38;5;241;43m.\u001b[39;49m\u001b[43mcolumns\u001b[49m\u001b[38;5;241;43m.\u001b[39;49m\u001b[43m_get_indexer_strict\u001b[49m\u001b[43m(\u001b[49m\u001b[43mkey\u001b[49m\u001b[43m,\u001b[49m\u001b[43m \u001b[49m\u001b[38;5;124;43m\"\u001b[39;49m\u001b[38;5;124;43mcolumns\u001b[39;49m\u001b[38;5;124;43m\"\u001b[39;49m\u001b[43m)\u001b[49m[\u001b[38;5;241m1\u001b[39m]\n\u001b[0;32m   3513\u001b[0m \u001b[38;5;66;03m# take() does not accept boolean indexers\u001b[39;00m\n\u001b[0;32m   3514\u001b[0m \u001b[38;5;28;01mif\u001b[39;00m \u001b[38;5;28mgetattr\u001b[39m(indexer, \u001b[38;5;124m\"\u001b[39m\u001b[38;5;124mdtype\u001b[39m\u001b[38;5;124m\"\u001b[39m, \u001b[38;5;28;01mNone\u001b[39;00m) \u001b[38;5;241m==\u001b[39m \u001b[38;5;28mbool\u001b[39m:\n",
      "File \u001b[1;32m~\\Anaconda3\\envs\\geo_env\\lib\\site-packages\\pandas\\core\\indexes\\base.py:5782\u001b[0m, in \u001b[0;36mIndex._get_indexer_strict\u001b[1;34m(self, key, axis_name)\u001b[0m\n\u001b[0;32m   5779\u001b[0m \u001b[38;5;28;01melse\u001b[39;00m:\n\u001b[0;32m   5780\u001b[0m     keyarr, indexer, new_indexer \u001b[38;5;241m=\u001b[39m \u001b[38;5;28mself\u001b[39m\u001b[38;5;241m.\u001b[39m_reindex_non_unique(keyarr)\n\u001b[1;32m-> 5782\u001b[0m \u001b[38;5;28;43mself\u001b[39;49m\u001b[38;5;241;43m.\u001b[39;49m\u001b[43m_raise_if_missing\u001b[49m\u001b[43m(\u001b[49m\u001b[43mkeyarr\u001b[49m\u001b[43m,\u001b[49m\u001b[43m \u001b[49m\u001b[43mindexer\u001b[49m\u001b[43m,\u001b[49m\u001b[43m \u001b[49m\u001b[43maxis_name\u001b[49m\u001b[43m)\u001b[49m\n\u001b[0;32m   5784\u001b[0m keyarr \u001b[38;5;241m=\u001b[39m \u001b[38;5;28mself\u001b[39m\u001b[38;5;241m.\u001b[39mtake(indexer)\n\u001b[0;32m   5785\u001b[0m \u001b[38;5;28;01mif\u001b[39;00m \u001b[38;5;28misinstance\u001b[39m(key, Index):\n\u001b[0;32m   5786\u001b[0m     \u001b[38;5;66;03m# GH 42790 - Preserve name from an Index\u001b[39;00m\n",
      "File \u001b[1;32m~\\Anaconda3\\envs\\geo_env\\lib\\site-packages\\pandas\\core\\indexes\\base.py:5845\u001b[0m, in \u001b[0;36mIndex._raise_if_missing\u001b[1;34m(self, key, indexer, axis_name)\u001b[0m\n\u001b[0;32m   5842\u001b[0m     \u001b[38;5;28;01mraise\u001b[39;00m \u001b[38;5;167;01mKeyError\u001b[39;00m(\u001b[38;5;124mf\u001b[39m\u001b[38;5;124m\"\u001b[39m\u001b[38;5;124mNone of [\u001b[39m\u001b[38;5;132;01m{\u001b[39;00mkey\u001b[38;5;132;01m}\u001b[39;00m\u001b[38;5;124m] are in the [\u001b[39m\u001b[38;5;132;01m{\u001b[39;00maxis_name\u001b[38;5;132;01m}\u001b[39;00m\u001b[38;5;124m]\u001b[39m\u001b[38;5;124m\"\u001b[39m)\n\u001b[0;32m   5844\u001b[0m not_found \u001b[38;5;241m=\u001b[39m \u001b[38;5;28mlist\u001b[39m(ensure_index(key)[missing_mask\u001b[38;5;241m.\u001b[39mnonzero()[\u001b[38;5;241m0\u001b[39m]]\u001b[38;5;241m.\u001b[39munique())\n\u001b[1;32m-> 5845\u001b[0m \u001b[38;5;28;01mraise\u001b[39;00m \u001b[38;5;167;01mKeyError\u001b[39;00m(\u001b[38;5;124mf\u001b[39m\u001b[38;5;124m\"\u001b[39m\u001b[38;5;132;01m{\u001b[39;00mnot_found\u001b[38;5;132;01m}\u001b[39;00m\u001b[38;5;124m not in index\u001b[39m\u001b[38;5;124m\"\u001b[39m)\n",
      "\u001b[1;31mKeyError\u001b[0m: \"['DISTRICT'] not in index\""
     ]
    }
   ],
   "source": [
    "# %load W:/Data/Forecast/Tools/creat_forecast_ad_hoc/py_scripts/main.py\n",
    "import pandas as pd\n",
    "from adding_an_addition_following_the_index import adding_an_addition\n",
    "from division_into_traffic_zones_of_plans import division_into_traffic_zones\n",
    "from export_forecast_in_format import export_forecast_format\n",
    "from export_geo_layer_for_client_control import export_geo_layer\n",
    "from export_index_layer_for_client_control import export_index_layer\n",
    "from forecast import clientTaz\n",
    "from geographical_features import add_geographical_Features\n",
    "from index_layer import index_layer_fun\n",
    "from status_exists_for_control import export_status_exists\n",
    "from uploading_index_table_elements import uploading_index_table\n",
    "\n",
    "#הגדרות כלליות\n",
    "\n",
    "pd.set_option('display.max_rows', None)\n",
    "pd.set_option('display.max_columns', None)\n",
    "\n",
    "file_date=pd.Timestamp.today().strftime('%y%m%d')\n",
    "\n",
    "#העלת משתנים להרצת הקוד\n",
    "df_inputs_outputs = pd.read_excel('inputs_outputs.xlsx')\n",
    "\n",
    "software_data_folder_location=df_inputs_outputs['location'][0]\n",
    "client_data_folder_location=df_inputs_outputs['location'][1]\n",
    "forecast_version=df_inputs_outputs['location'][2]\n",
    "v_date=df_inputs_outputs['location'][3]\n",
    "index_file_name='index_format_for_creating_forecast_jtmt_input_{}_{}'.format(forecast_version,v_date)\n",
    "\n",
    "\n",
    "#העלת אזורי תנועה לחישוב\n",
    "forecast=clientTaz(client_data_folder_location)\n",
    "\n",
    "#### הוספת מאפיינים גיאוגרפים לאזורי תנועה\n",
    "forecast=add_geographical_Features(forecast, software_data_folder_location)"
   ]
  },
  {
   "cell_type": "code",
   "execution_count": null,
   "id": "0be4454c",
   "metadata": {},
   "outputs": [],
   "source": [
    "# #### ייצוא שכבת אזורי תנועה לבקרת לקוח\n",
    "forecast=export_geo_layer(forecast, client_data_folder_location, file_date)\n",
    "\n",
    "# #### מצב קיים לבקרה\n",
    "forecast_2020=export_status_exists(forecast, software_data_folder_location, file_date)\n",
    "\n",
    "# #### ייצוא תחזית בפורמט\n",
    "forecast_2020_for_model=export_forecast_format(forecast, software_data_folder_location, file_date)\n",
    "\n",
    "#### העלאת מרכיבי טבלת אינדקס\n",
    "index=uploading_index_table(forecast, client_data_folder_location, index_file_name)\n",
    "\n",
    "### חלוקה לאזורי תנועה של התכניות\n",
    "divided_index=division_into_traffic_zones(index,forecast)\n",
    "\n",
    "### שכבת אינדקס\n",
    "index_layer=index_layer_fun(divided_index)\n",
    "\n",
    "#### ייצוא שכבת אינדקס לבקרת לקוח\n",
    "index_layer_for_client_control=export_index_layer(index_layer,client_data_folder_location,file_date,forecast_version)\n",
    "\n",
    "### חישוב תחזית\n",
    "\n",
    "#### הוספת תוספת בעקבות האינדקס\n",
    "index_with_extension=adding_an_addition(index_layer,forecast,forecast_2020,software_data_folder_location,client_data_folder_location,forecast_version)\n",
    "\n",
    "print('Done')"
   ]
  }
 ],
 "metadata": {
  "kernelspec": {
   "display_name": "Python 3 (ipykernel)",
   "language": "python",
   "name": "python3"
  },
  "language_info": {
   "codemirror_mode": {
    "name": "ipython",
    "version": 3
   },
   "file_extension": ".py",
   "mimetype": "text/x-python",
   "name": "python",
   "nbconvert_exporter": "python",
   "pygments_lexer": "ipython3",
   "version": "3.10.4"
  },
  "toc": {
   "base_numbering": 1,
   "nav_menu": {},
   "number_sections": true,
   "sideBar": true,
   "skip_h1_title": false,
   "title_cell": "Table of Contents",
   "title_sidebar": "Contents",
   "toc_cell": false,
   "toc_position": {},
   "toc_section_display": true,
   "toc_window_display": false
  }
 },
 "nbformat": 4,
 "nbformat_minor": 5
}
