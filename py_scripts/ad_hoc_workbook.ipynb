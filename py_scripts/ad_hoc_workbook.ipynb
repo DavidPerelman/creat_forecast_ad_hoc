{
 "cells": [
  {
   "cell_type": "code",
   "execution_count": 26,
   "id": "4a06220c",
   "metadata": {},
   "outputs": [
    {
     "name": "stderr",
     "output_type": "stream",
     "text": [
      "W:\\Data\\Forecast\\Tools\\creat_forecast_ad_hoc\\py_scripts\\export_geo_layer_for_client_control.py:3: UserWarning: Column names longer than 10 characters will be truncated when saved to ESRI Shapefile.\n",
      "  forecast.to_file(save_shp_path,index=False,encoding='UTF-8')\n"
     ]
    }
   ],
   "source": [
    "# %load main.py\n",
    "import pandas as pd\n",
    "from adding_an_addition_following_the_index import adding_an_addition\n",
    "from division_into_traffic_zones_of_plans import division_into_traffic_zones\n",
    "from export_forecast_in_format import export_forecast_format\n",
    "from export_geo_layer_for_client_control import export_geo_layer\n",
    "from export_index_layer_for_client_control import export_index_layer\n",
    "from forecast import clientTaz\n",
    "from geographical_features import add_geographical_Features\n",
    "from index_layer import index_layer_fun\n",
    "from status_exists_for_control import export_status_exists\n",
    "from uploading_index_table_elements import uploading_index_table\n",
    "\n",
    "#הגדרות כלליות\n",
    "\n",
    "pd.set_option('display.max_rows', None)\n",
    "pd.set_option('display.max_columns', None)\n",
    "\n",
    "file_date=pd.Timestamp.today().strftime('%y%m%d')\n",
    "\n",
    "#העלת משתנים להרצת הקוד\n",
    "df_inputs_outputs = pd.read_excel('inputs_outputs.xlsx')\n",
    "\n",
    "software_data_folder_location=df_inputs_outputs['location'][0]\n",
    "client_data_folder_location=df_inputs_outputs['location'][1]\n",
    "forecast_version=df_inputs_outputs['location'][2]\n",
    "v_date=df_inputs_outputs['location'][3]\n",
    "index_file_name='index_format_for_creating_forecast_jtmt_input_{}_{}'.format(forecast_version,v_date)\n",
    "\n",
    "\n",
    "#העלת אזורי תנועה לחישוב\n",
    "forecast=clientTaz(client_data_folder_location)\n",
    "\n",
    "#### הוספת מאפיינים גיאוגרפים לאזורי תנועה\n",
    "forecast=add_geographical_Features(forecast, software_data_folder_location)\n",
    "\n",
    "\n",
    "\n",
    "# #### ייצוא שכבת אזורי תנועה לבקרת לקוח\n",
    "forecast=export_geo_layer(forecast, client_data_folder_location, file_date)"
   ]
  },
  {
   "cell_type": "code",
   "execution_count": null,
   "id": "921d187e",
   "metadata": {},
   "outputs": [],
   "source": [
    "# #### מצב קיים לבקרה\n",
    "forecast_2020=export_status_exists(forecast, software_data_folder_location,client_data_folder_location, file_date)\n",
    "\n",
    "# #### ייצוא תחזית בפורמט\n",
    "forecast_2020_for_model=export_forecast_format(forecast, software_data_folder_location,client_data_folder_location, file_date)\n",
    "\n",
    "#### העלאת מרכיבי טבלת אינדקס\n",
    "index=uploading_index_table(forecast, client_data_folder_location, index_file_name)\n",
    "\n",
    "### חלוקה לאזורי תנועה של התכניות\n",
    "divided_index=division_into_traffic_zones(index,forecast)\n",
    "\n",
    "### שכבת אינדקס\n",
    "index_layer=index_layer_fun(divided_index)\n",
    "\n",
    "#### ייצוא שכבת אינדקס לבקרת לקוח\n",
    "index_layer_for_client_control=export_index_layer(index_layer,client_data_folder_location,file_date,forecast_version)\n",
    "\n",
    "### חישוב תחזית\n",
    "\n",
    "#### הוספת תוספת בעקבות האינדקס\n",
    "index_with_extension=adding_an_addition(index_layer,forecast,forecast_2020,software_data_folder_location,client_data_folder_location,forecast_version)\n",
    "\n",
    "print('Done')"
   ]
  }
 ],
 "metadata": {
  "kernelspec": {
   "display_name": "Python 3 (ipykernel)",
   "language": "python",
   "name": "python3"
  },
  "language_info": {
   "codemirror_mode": {
    "name": "ipython",
    "version": 3
   },
   "file_extension": ".py",
   "mimetype": "text/x-python",
   "name": "python",
   "nbconvert_exporter": "python",
   "pygments_lexer": "ipython3",
   "version": "3.10.4"
  },
  "toc": {
   "base_numbering": 1,
   "nav_menu": {},
   "number_sections": true,
   "sideBar": true,
   "skip_h1_title": false,
   "title_cell": "Table of Contents",
   "title_sidebar": "Contents",
   "toc_cell": false,
   "toc_position": {},
   "toc_section_display": true,
   "toc_window_display": false
  }
 },
 "nbformat": 4,
 "nbformat_minor": 5
}
