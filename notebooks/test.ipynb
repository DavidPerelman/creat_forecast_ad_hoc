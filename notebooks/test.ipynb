{
 "cells": [
  {
   "cell_type": "code",
   "execution_count": 11,
   "metadata": {},
   "outputs": [
    {
     "name": "stdout",
     "output_type": "stream",
     "text": [
      "c:\\Users\\dpere\\Documents\\JTMT\\creat_forecast_ad_hoc\n"
     ]
    },
    {
     "ename": "ModuleNotFoundError",
     "evalue": "No module named 'forecast'",
     "output_type": "error",
     "traceback": [
      "\u001b[1;31m---------------------------------------------------------------------------\u001b[0m",
      "\u001b[1;31mModuleNotFoundError\u001b[0m                       Traceback (most recent call last)",
      "\u001b[1;32mc:\\Users\\dpere\\Documents\\JTMT\\creat_forecast_ad_hoc\\notebooks\\test.ipynb Cell 1\u001b[0m line \u001b[0;36m9\n\u001b[0;32m      <a href='vscode-notebook-cell:/c%3A/Users/dpere/Documents/JTMT/creat_forecast_ad_hoc/notebooks/test.ipynb#W0sZmlsZQ%3D%3D?line=5'>6</a>\u001b[0m \u001b[39mif\u001b[39;00m module_path \u001b[39mnot\u001b[39;00m \u001b[39min\u001b[39;00m sys\u001b[39m.\u001b[39mpath:\n\u001b[0;32m      <a href='vscode-notebook-cell:/c%3A/Users/dpere/Documents/JTMT/creat_forecast_ad_hoc/notebooks/test.ipynb#W0sZmlsZQ%3D%3D?line=6'>7</a>\u001b[0m     sys\u001b[39m.\u001b[39mpath\u001b[39m.\u001b[39mappend(module_path)\n\u001b[1;32m----> <a href='vscode-notebook-cell:/c%3A/Users/dpere/Documents/JTMT/creat_forecast_ad_hoc/notebooks/test.ipynb#W0sZmlsZQ%3D%3D?line=8'>9</a>\u001b[0m \u001b[39mfrom\u001b[39;00m \u001b[39mpy_scripts\u001b[39;00m\u001b[39m.\u001b[39;00m\u001b[39mgeographical_features\u001b[39;00m \u001b[39mimport\u001b[39;00m print_forecast\n\u001b[0;32m     <a href='vscode-notebook-cell:/c%3A/Users/dpere/Documents/JTMT/creat_forecast_ad_hoc/notebooks/test.ipynb#W0sZmlsZQ%3D%3D?line=10'>11</a>\u001b[0m print_forecast\n",
      "File \u001b[1;32mc:\\Users\\dpere\\Documents\\JTMT\\creat_forecast_ad_hoc\\py_scripts\\geographical_features.py:1\u001b[0m\n\u001b[1;32m----> 1\u001b[0m \u001b[39mfrom\u001b[39;00m \u001b[39mforecast\u001b[39;00m \u001b[39mimport\u001b[39;00m forecast\n\u001b[0;32m      2\u001b[0m \u001b[39mfrom\u001b[39;00m \u001b[39mfunctions\u001b[39;00m \u001b[39mimport\u001b[39;00m make_point, up_load_gdb, up_load_shp\n\u001b[0;32m      4\u001b[0m forecast_point \u001b[39m=\u001b[39m make_point(forecast)\n",
      "\u001b[1;31mModuleNotFoundError\u001b[0m: No module named 'forecast'"
     ]
    }
   ],
   "source": [
    "import os\n",
    "import sys\n",
    "\n",
    "module_path = os.path.abspath(os.path.join('..'))\n",
    "print(module_path)\n",
    "if module_path not in sys.path:\n",
    "    sys.path.append(module_path)\n",
    "\n",
    "from py_scripts.geographical_features import print_forecast\n",
    "\n",
    "print_forecast()"
   ]
  }
 ],
 "metadata": {
  "kernelspec": {
   "display_name": "creat_forecast_ad_hoc_env",
   "language": "python",
   "name": "python3"
  },
  "language_info": {
   "codemirror_mode": {
    "name": "ipython",
    "version": 3
   },
   "file_extension": ".py",
   "mimetype": "text/x-python",
   "name": "python",
   "nbconvert_exporter": "python",
   "pygments_lexer": "ipython3",
   "version": "3.11.5"
  }
 },
 "nbformat": 4,
 "nbformat_minor": 2
}
